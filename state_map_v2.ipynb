{
 "cells": [
  {
   "cell_type": "code",
   "execution_count": 2,
   "metadata": {},
   "outputs": [],
   "source": [
    "# Dependencies and Setup\n",
    "import matplotlib.pyplot as plt\n",
    "import pandas as pd\n",
    "import numpy as np\n",
    "import requests\n",
    "import gmaps\n",
    "import os\n",
    "import json\n",
    "from pprint import pprint\n",
    "from urllib.request import urlopen\n",
    "import plotly.express as px"
   ]
  },
  {
   "cell_type": "code",
   "execution_count": 3,
   "metadata": {},
   "outputs": [],
   "source": [
    "#inputs\n",
    "merge_by_month = pd.read_csv('Final_Merge_7_15_20.csv')\n",
    "merge_by_county = pd.read_csv('Regression_Mike/Final Merge 7_17_20.csv')\n",
    "fips_df = pd.read_csv('Resources/county_fips.csv')"
   ]
  },
  {
   "cell_type": "code",
   "execution_count": 4,
   "metadata": {},
   "outputs": [],
   "source": [
    "by_month = pd.merge(merge_by_month, fips_df, on='County')\n",
    "by_month = by_month[[\n",
    "    'County',\n",
    "    'Political_Party',\n",
    "    'Household Income Mean',\n",
    "    'fips',\n",
    "    'Month',\n",
    "    'NewPos_All',\n",
    "    'Deaths',\n",
    "    'Hospitalizations_hospitalization'\n",
    "]]\n",
    "\n",
    "by_month.columns = [\n",
    "    'County',\n",
    "    'Political_Party',\n",
    "    'Household Income Mean',\n",
    "    'fips',\n",
    "    'Month',\n",
    "    'Cases',\n",
    "    'Deaths',\n",
    "    'Hospitalizations'\n",
    "]"
   ]
  },
  {
   "cell_type": "code",
   "execution_count": 5,
   "metadata": {},
   "outputs": [],
   "source": [
    "february = by_month[by_month['Month'] == 2].groupby(['County', 'Political_Party', 'fips', 'Month']).sum().reset_index()\n",
    "march = by_month[by_month['Month'] == 3].groupby(['County', 'Political_Party', 'fips', 'Month']).sum().reset_index()\n",
    "april = by_month[by_month['Month'] == 4].groupby(['County', 'Political_Party', 'fips', 'Month']).sum().reset_index()\n",
    "may = by_month[by_month['Month'] == 5].groupby(['County', 'Political_Party', 'fips', 'Month']).sum().reset_index()\n",
    "june = by_month[by_month['Month'] == 6].groupby(['County', 'Political_Party', 'fips', 'Month']).sum().reset_index()\n",
    "\n",
    "months = [february, march, april, may, june]"
   ]
  },
  {
   "cell_type": "code",
   "execution_count": 6,
   "metadata": {
    "tags": []
   },
   "outputs": [],
   "source": [
    "february.name = 'february'\n",
    "march.name = 'march'\n",
    "april.name = 'april'\n",
    "may.name = 'may'\n",
    "june.name = 'june'"
   ]
  },
  {
   "cell_type": "code",
   "execution_count": 7,
   "metadata": {},
   "outputs": [],
   "source": [
    "by_county = pd.merge(merge_by_county, fips_df, on='County')\n",
    "by_county = by_county[[\n",
    "    'County',\n",
    "    'Political_Party',\n",
    "    'Household Income Mean',\n",
    "    'Percent Below Poverty Level',\n",
    "    'fips',\n",
    "    'NewPos_All',\n",
    "    'Deaths',\n",
    "    'Hospitalizations_hospitalization',\n",
    "    'Population',\n",
    "    'Case_per100k',\n",
    "    'Deaths_per100k',\n",
    "    'Hoptializations_per100k',\n",
    "    'Population_Density'\n",
    "]]\n",
    "\n",
    "by_county.columns = [\n",
    "    'County',\n",
    "    'Political_Party',\n",
    "    'Household Income Mean',\n",
    "    'Percent Below Poverty Level',\n",
    "    'fips',\n",
    "    'Cases',\n",
    "    'Deaths',\n",
    "    'Hospitalizations',\n",
    "    'Population',\n",
    "    'Cases per 100k',\n",
    "    'Deaths per 100k',\n",
    "    'Hoptializations per 100k',\n",
    "    'Population Density'\n",
    "]\n",
    "#by_county.head()"
   ]
  },
  {
   "cell_type": "code",
   "execution_count": 8,
   "metadata": {},
   "outputs": [],
   "source": [
    "wash_lat = 47.7511\n",
    "wash_lon = -120.7401\n",
    "\n",
    "with urlopen('https://raw.githubusercontent.com/plotly/datasets/master/geojson-counties-fips.json') as response:\n",
    "    counties = json.load(response)"
   ]
  },
  {
   "cell_type": "code",
   "execution_count": 9,
   "metadata": {},
   "outputs": [],
   "source": [
    "def state_map(df, metric, color1, color2):\n",
    "    fig = px.choropleth_mapbox(\n",
    "        df,\n",
    "        geojson=counties, \n",
    "        locations='fips', \n",
    "        color=f'{metric}',\n",
    "        color_continuous_scale=[f'{color1}', f'{color2}'],\n",
    "        mapbox_style='carto-positron',\n",
    "        zoom=5.25,\n",
    "        center= {\"lat\": wash_lat, \"lon\": wash_lon},\n",
    "        opacity=0.5,\n",
    "        labels={f'{metric}': f'{metric}'}\n",
    "    )\n",
    "    fig.update_layout(margin={\"r\":0,\"t\":0,\"l\":0,\"b\":0})\n",
    "    fig.write_image('map_visuals/' + f'{metric}/'f'{df.name}_{metric}.png')"
   ]
  },
  {
   "cell_type": "code",
   "execution_count": 44,
   "metadata": {},
   "outputs": [],
   "source": [
    "for month in months:\n",
    "    state_map(month, 'Cases', '#F9E79F', '#9A7D0A')\n",
    "    state_map(month, 'Deaths', '#E6B0AA', '#7B241C')\n",
    "    state_map(month, 'Hospitalizations', '#BB8FCE', '#5B2C6F')"
   ]
  },
  {
   "cell_type": "code",
   "execution_count": 18,
   "metadata": {},
   "outputs": [],
   "source": [
    "def state_map_summary(metric, color1, color2, color3):\n",
    "    fig = px.choropleth_mapbox(\n",
    "        by_county,\n",
    "        geojson=counties, \n",
    "        locations='fips', \n",
    "        color=f'{metric}',\n",
    "        color_continuous_scale=[f'{color1}', f'{color2}', f'{color3}'],\n",
    "        mapbox_style='carto-positron',\n",
    "        zoom=5.25,\n",
    "        center= {\"lat\": wash_lat, \"lon\": wash_lon},\n",
    "        opacity=0.75,\n",
    "        labels={f'{metric}': f'{metric}'}\n",
    "    )\n",
    "    fig.update_layout(margin={\"r\":0,\"t\":0,\"l\":0,\"b\":0})\n",
    "    fig.write_image('map_visuals/by_county/'f'{metric}.png')"
   ]
  },
  {
   "cell_type": "code",
   "execution_count": 20,
   "metadata": {},
   "outputs": [],
   "source": [
    "state_map_summary('Population','white','green','blue')\n",
    "state_map_summary('Cases per 100k','yellow','red','purple')\n",
    "state_map_summary('Deaths per 100k','blue','yellow','red')\n",
    "state_map_summary('Hoptializations per 100k','white','pink','purple')\n",
    "state_map_summary('Percent Below Poverty Level','yellow','orange','red')"
   ]
  },
  {
   "cell_type": "code",
   "execution_count": 10,
   "metadata": {},
   "outputs": [],
   "source": [
    "fig = px.choropleth_mapbox(\n",
    "    by_county, \n",
    "    geojson=counties, \n",
    "    locations='fips', \n",
    "    color='Political_Party',\n",
    "    hover_name='County',\n",
    "    color_discrete_map={\n",
    "        'Republican': 'red',\n",
    "        'Democratic': 'blue'\n",
    "    },\n",
    "    #color_continuous_scale='Viridis',\n",
    "    mapbox_style='carto-positron',\n",
    "    zoom=5.25,\n",
    "    center= {\"lat\": 47.7511, \"lon\": -120.7401},\n",
    "    opacity=0.5,\n",
    "    labels={'Political_Party':'Political_Party'},\n",
    "    title='Political Affiliation by County'\n",
    ")\n",
    "fig.update_layout(margin={\"r\":0,\"t\":0,\"l\":0,\"b\":0})\n",
    "fig.write_image('map_visuals/politics_map.png')"
   ]
  },
  {
   "cell_type": "code",
   "execution_count": null,
   "metadata": {},
   "outputs": [],
   "source": []
  }
 ],
 "metadata": {
  "language_info": {
   "codemirror_mode": {
    "name": "ipython",
    "version": 3
   },
   "file_extension": ".py",
   "mimetype": "text/x-python",
   "name": "python",
   "nbconvert_exporter": "python",
   "pygments_lexer": "ipython3",
   "version": 3
  },
  "orig_nbformat": 2,
  "kernelspec": {
   "name": "python_defaultSpec_1595137827735",
   "display_name": "Python 3.6.10 64-bit ('PythonData': conda)"
  }
 },
 "nbformat": 4,
 "nbformat_minor": 2
}