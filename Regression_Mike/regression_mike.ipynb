{
 "cells": [
  {
   "cell_type": "code",
   "execution_count": null,
   "metadata": {},
   "outputs": [],
   "source": [
    "import pandas as pd\n",
    "import numpy as np\n",
    "import datetime\n",
    "from functools import reduce\n",
    "\n",
    "data = pd.read_csv(\"../Resources/sars_cases.csv\")\n",
    "death = pd.read_csv(\"../Resources/sars_deaths.csv\")\n",
    "hospitalization = pd.read_csv(\"../Resources/sars_hospitalizations.csv\")\n",
    "population = pd.read_csv(\"population.csv\")\n",
    "\n",
    "#adding suffix\n",
    "hospitalization = hospitalization.add_suffix(\"_hospitalization\")\n",
    "#census = pd.read_csv(\"../Resources/Census_Wash_Counties_Income_Poverty.csv\")\n",
    "\n",
    "cleandata = pd.DataFrame.copy(data)\n",
    "\n",
    "day = pd.Series(cleandata[\"WeekStartDate\"]).str.split(\"/\").str[1]\n",
    "month = pd.Series(cleandata[\"WeekStartDate\"]).str.split(\"/\").str[0]\n",
    "year = pd.Series(cleandata[\"WeekStartDate\"]).str.split(\"/\").str[2]\n",
    "\n",
    "month = month.map(lambda x: x.zfill(2))\n",
    "day = day.map(lambda x: x.zfill(2))\n",
    "\n",
    "\n",
    "cleandata[\"WeekStartDate\"] = year + \"-\" + month + \"-\" + day\n",
    "\n",
    "\n",
    "\n",
    "\n",
    "dataframes = [cleandata, death, hospitalization]\n",
    "\n",
    "#mergedf = reduce(lambda  left,right: pd.merge(left,right,on=['County', \"WeekStartDate\"], suffixes= (\"_cases\", \"_death\", \"_hospitalization\"), how='outer'), dataframes)\n",
    "\n",
    "mergedf = pd.merge(cleandata, death, on = [\"County\", \"WeekStartDate\"], suffixes = (\"_cases\", \"_death\"), how= \"outer\", indicator = True)#.fillna(0)\n",
    "#mergedf[mergedf[\"_merge\"] == \"both\"]\n",
    "\n",
    "merge1 = pd.DataFrame(mergedf)\n",
    "\n",
    "mergedf2 = pd.merge(merge1, hospitalization, left_on = [\"County\", \"WeekStartDate\"], right_on = [\"County_hospitalization\", \"WeekStartDate_hospitalization\"], how = \"outer\", indicator = \"exists\")\n",
    "\n",
    "#mergedf.fillna(0)\n",
    "\n",
    "mergedf2.to_csv(\"MergeWeek.csv\")\n"
   ]
  },
  {
   "cell_type": "code",
   "execution_count": null,
   "metadata": {},
   "outputs": [],
   "source": [
    "mergedf3 = mergedf2\n",
    "mergedf3[\"Month\"] = mergedf3[\"WeekStartDate\"].str.split(\"-\").str[1]\n",
    "\n",
    "mergemonth = mergedf3.groupby([\"County\", \"Month\"])\n",
    "mergemonth = mergemonth[['NewPos_All', 'Age 0-19_cases',\n",
    "       'Age 20-39_cases', 'Age 40-59_cases', 'Age 60-79_cases',\n",
    "       'Age 80+_cases', 'Positive UnkAge_cases', 'dtm_updated_cases', 'Deaths',\n",
    "       'Age 0-19_death', 'Age 20-39_death', 'Age 40-59_death',\n",
    "       'Age 60-79_death', 'Age 80+_death', 'Positive UnkAge_death',\n",
    "       'dtm_updated_death', 'County_hospitalization',\n",
    "       'Hospitalizations_hospitalization',\n",
    "       'Age 0-19_hospitalization', 'Age 20-39_hospitalization',\n",
    "       'Age 40-59_hospitalization', 'Age 60-79_hospitalization',\n",
    "       'Age 80+_hospitalization', 'Positive UnkAge_hospitalization',\n",
    "       'dtm_updated_hospitalization']].sum()\n",
    "mergemonth.to_csv(\"MergeMonth.csv\")\n",
    "\n"
   ]
  },
  {
   "cell_type": "code",
   "execution_count": null,
   "metadata": {},
   "outputs": [],
   "source": [
    "census = pd.read_csv(\"../census_politics_merge_mike2.csv\")\n",
    "\n",
    "mergedf4 = mergemonth.reset_index()\n",
    "mergedf5 = pd.merge(mergedf4, census, on = \"County\", how=\"outer\")\n",
    "mergedf5 = mergedf5.drop(columns=['Counter'])\n",
    "#mergedf5.to_csv(\"Final Merge 7_15_20\")\n"
   ]
  },
  {
   "cell_type": "code",
   "execution_count": null,
   "metadata": {},
   "outputs": [],
   "source": [
    "county_gb = mergedf4.groupby(\"County\")\n",
    "county_sum = county_gb.sum()\n",
    "county_sum\n",
    "merge_census = pd.merge(county_sum, census, on = \"County\", how=\"outer\")\n",
    "covid_reg = pd.merge(merge_census, population, on = \"County\", how=\"outer\")\n",
    "covid_reg = covid_reg.drop([31])\n",
    "covid_reg = covid_reg.drop(columns=['Counter'])\n",
    "covid_reg[\"Pop_per100k\"] = covid_reg[\"Population\"]/100000\n",
    "covid_reg = covid_reg.fillna(0)\n",
    "covid_reg[\"Case_per100k\"] = covid_reg[\"NewPos_All\"]/covid_reg[\"Pop_per100k\"]\n",
    "covid_reg[\"Deaths_per100k\"] = covid_reg[\"Deaths\"]/covid_reg[\"Pop_per100k\"]\n",
    "covid_reg[\"Hoptializations_per100k\"] = covid_reg[\"Hospitalizations_hospitalization\"]/covid_reg[\"Pop_per100k\"]\n",
    "covid_reg.to_csv(\"Final Merge 7_16_20.csv\")\n",
    "covid_reg"
   ]
  },
  {
   "cell_type": "code",
   "execution_count": null,
   "metadata": {},
   "outputs": [],
   "source": []
  }
 ],
 "metadata": {
  "kernelspec": {
   "display_name": "Python 3",
   "language": "python",
   "name": "python3"
  },
  "language_info": {
   "codemirror_mode": {
    "name": "ipython",
    "version": 3
   },
   "file_extension": ".py",
   "mimetype": "text/x-python",
   "name": "python",
   "nbconvert_exporter": "python",
   "pygments_lexer": "ipython3",
   "version": "3.7.6"
  }
 },
 "nbformat": 4,
 "nbformat_minor": 4
}
